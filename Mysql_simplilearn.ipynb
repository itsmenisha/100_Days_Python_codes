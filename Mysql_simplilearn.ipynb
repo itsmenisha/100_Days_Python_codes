{
  "nbformat": 4,
  "nbformat_minor": 0,
  "metadata": {
    "colab": {
      "provenance": [],
      "authorship_tag": "ABX9TyNCP9+YEmhRhQpoS01lIlMl",
      "include_colab_link": true
    },
    "kernelspec": {
      "name": "python3",
      "display_name": "Python 3"
    },
    "language_info": {
      "name": "python"
    }
  },
  "cells": [
    {
      "cell_type": "markdown",
      "metadata": {
        "id": "view-in-github",
        "colab_type": "text"
      },
      "source": [
        "<a href=\"https://colab.research.google.com/github/itsmenisha/100_Days_Python_codes/blob/main/Mysql_simplilearn.ipynb\" target=\"_parent\"><img src=\"https://colab.research.google.com/assets/colab-badge.svg\" alt=\"Open In Colab\"/></a>"
      ]
    },
    {
      "cell_type": "code",
      "source": [
        "#import libraries\n",
        "\n",
        "import mysql.connector\n",
        "from mysql.connector import Error\n",
        "import pandas as pd"
      ],
      "metadata": {
        "id": "tMfnBMvbFueb"
      },
      "execution_count": null,
      "outputs": []
    },
    {
      "cell_type": "code",
      "source": [
        "def create_server_connection(host_name,username,user_pass):\n",
        "  connection=None\n",
        "  try:\n",
        "    connection=mysql.connector.connect(host=host_name,user=username,passwd=user_pass)\n",
        "    print(\"MySQL Database connection successful\")\n",
        "  except Error as err:\n",
        "    print(f\"Error: '{err}'\")\n",
        "  return connection\n",
        "  # put the mysql terminal password\n",
        "  pw=1234\n",
        "  #database Name\n",
        "  db=\"mysql_python\"\n",
        "  connection=create_server_connection(\"localhost\",\"root\",pw)"
      ],
      "metadata": {
        "id": "XYr-zdLgGXpI"
      },
      "execution_count": null,
      "outputs": []
    },
    {
      "cell_type": "code",
      "source": [
        "#Create a mysql_python\n",
        "def create_database(connection,query):\n",
        "  cursor=connection.cursor()\n",
        "  try:\n",
        "    cursor.execute(query)\n",
        "    print(\"Database created successfully\")\n",
        "  except Error as err:\n",
        "    print(f\"Error: '{err}'\")\n",
        "create_database_query=\"Create database mysql_python\"\n",
        "create_database(connection,create_database_query)\n"
      ],
      "metadata": {
        "id": "YFptNu-8Qk3D"
      },
      "execution_count": null,
      "outputs": []
    },
    {
      "cell_type": "code",
      "source": [
        "#connect to database\n",
        "def create_db_connection(host_name,username,user_pass,db_name):\n",
        "  connection=None\n",
        "  try:\n",
        "    connection=mysql.connector.connect(host=host_name,user=username,passwd=user_pass,database=db_name)\n",
        "    print(\"MySQL Database connection successful\")\n",
        "  except Error as err:\n",
        "    print(f\"Error: '{err}'\")\n",
        "  return connection"
      ],
      "metadata": {
        "id": "ly3YyokGRbuE"
      },
      "execution_count": null,
      "outputs": []
    },
    {
      "cell_type": "code",
      "source": [
        "#execute sql queries\n",
        "def execute_query(connection,query):\n",
        "  cursor=connection.cursor()\n",
        "  try:\n",
        "    cursor.execute(query)\n",
        "    connection.commit()\n",
        "    print(\"Query was successful\")\n",
        "  except Error as err:\n",
        "    print(f\"Error: '{err}'\")"
      ],
      "metadata": {
        "id": "B0_BS_6STdOK"
      },
      "execution_count": null,
      "outputs": []
    },
    {
      "cell_type": "code",
      "source": [
        "create_order_tables =\"\"\"\n",
        "create table orders(\n",
        "order_id int primary key,\n",
        "customer_name varchar(30) not null,\n",
        "product_name varchar(20) not null,\n",
        "date_ordered date,\n",
        "quantity int,\n",
        "unit_price float,\n",
        "phone_number varchar(20));\n",
        "\"\"\"\n",
        "#connect to the database\n",
        "connection=create_db_connection(\"localhost\",\"root\",pw,db)\n",
        "execute_query(connection,create_order_tables)"
      ],
      "metadata": {
        "id": "yD1EAn83UbdL"
      },
      "execution_count": null,
      "outputs": []
    },
    {
      "cell_type": "code",
      "source": [
        "#insert data\n",
        "data_orders=\"\"\"\n",
        "insert into orders values\n",
        "(101, 'Steve', 'Laptop', '2025-04-12', 2, 800, '629770000'),\n",
        "(102, 'Jos', 'Smartphone', '2025-04-10', 1, 600, '9811223344'),\n",
        "(103, 'Anita', 'Tablet', '2025-04-11', 3, 300, '9808765432'),\n",
        "(104, 'Ramesh', 'Headphones', '2025-04-12', 1, 150, '9845011122'),\n",
        "(105, 'Sita', 'Smartwatch', '2025-04-12', 2, 250, '9809123456'),\n",
        "(106, 'David', 'Monitor', '2025-04-13', 1, 400, '9812345678'),\n",
        "(107, 'Laxmi', 'Keyboard', '2025-04-13', 4, 50, '9822345678');\n",
        "\"\"\"\n",
        "connection=create_db_connection(\"localhost\",\"root\",pw,db)\n",
        "execute_query(connection,data_orders)"
      ],
      "metadata": {
        "id": "tzq1FWqcUkR_"
      },
      "execution_count": null,
      "outputs": []
    },
    {
      "cell_type": "code",
      "source": [
        "def read_query(connection,query):\n",
        "  cursor=connection.cursor()\n",
        "  result=None\n",
        "  try:\n",
        "    cursor.execute(query)\n",
        "    result=cursor.fetchall()\n",
        "    return result\n",
        "  except Error as err:\n",
        "    print(f\"Error: '{err}'\")"
      ],
      "metadata": {
        "id": "fjwLIW5BV2ne"
      },
      "execution_count": null,
      "outputs": []
    },
    {
      "cell_type": "code",
      "source": [
        "#using the select statement\n",
        "q1=\"\"\"\n",
        "select * from orders;\n",
        "\"\"\"\n",
        "connection=create_db_connection(\"localhost\",\"root\",pw,db)\n",
        "results=read_query(connection,q1)\n",
        "for result in results:\n",
        "  print(result)"
      ],
      "metadata": {
        "id": "mGKpS6OyWIYo"
      },
      "execution_count": null,
      "outputs": []
    },
    {
      "cell_type": "code",
      "source": [
        "q2=\"\"\"\n",
        "select customer_name,phone_number from orders;\n",
        "\"\"\"\n",
        "connection=create_db_connection(\"localhost\",\"root\",pw,db)\n",
        "results=read_query(connection,q2)\n",
        "for result in results:\n",
        "  print(result)"
      ],
      "metadata": {
        "id": "1i92wEuZWn6i"
      },
      "execution_count": null,
      "outputs": []
    },
    {
      "cell_type": "code",
      "source": [
        "q3=\"\"\"\n",
        "select year(date_ordered) from orders;\n",
        "\"\"\"\n",
        "connection=create_db_connection(\"localhost\",\"root\",pw,db)\n",
        "results=read_query(connection,q2)\n",
        "for result in results:\n",
        "  print(result)"
      ],
      "metadata": {
        "id": "Ysyx7H73WvmL"
      },
      "execution_count": null,
      "outputs": []
    },
    {
      "cell_type": "code",
      "source": [
        "q4=\"\"\"\n",
        "select distinct year(date_ordered) from orders;\n",
        "\"\"\"\n",
        "connection=create_db_connection(\"localhost\",\"root\",pw,db)\n",
        "results=read_query(connection,q2)\n",
        "for result in results:\n",
        "  print(result)"
      ],
      "metadata": {
        "id": "eeAZmo-qW8C_"
      },
      "execution_count": null,
      "outputs": []
    },
    {
      "cell_type": "code",
      "source": [
        "q5=\"\"\"\n",
        "select * from orders where date_ordered< '2025-03-31';\n",
        "\"\"\"\n",
        "connection=create_db_connection(\"localhost\",\"root\",pw,db)\n",
        "results=read_query(connection,q2)\n",
        "for result in results:\n",
        "  print(result)"
      ],
      "metadata": {
        "id": "ViUquTWAW_o9"
      },
      "execution_count": null,
      "outputs": []
    },
    {
      "cell_type": "code",
      "source": [
        "q6=\"\"\"\n",
        "select * from orders where date_ordered > '2025-03-31';\n",
        "\"\"\"\n",
        "connection=create_db_connection(\"localhost\",\"root\",pw,db)\n",
        "results=read_query(connection,q2)\n",
        "for result in results:\n",
        "  print(result)"
      ],
      "metadata": {
        "id": "8O6_35aLXRiH"
      },
      "execution_count": null,
      "outputs": []
    },
    {
      "cell_type": "code",
      "source": [
        "q7=\"\"\"\n",
        "select * from orders order by unit_price;\n",
        "\"\"\"\n",
        "connection=create_db_connection(\"localhost\",\"root\",pw,db)\n",
        "results=read_query(connection,q2)\n",
        "for result in results:\n",
        "  print(result)"
      ],
      "metadata": {
        "id": "gBuZ_IbXXVyE"
      },
      "execution_count": null,
      "outputs": []
    },
    {
      "cell_type": "code",
      "source": [
        "q7=\"\"\"\n",
        "select * from orders where date_ordered< '2025-03-31';\n",
        "\"\"\"\n",
        "connection=create_db_connection(\"localhost\",\"root\",pw,db)\n",
        "results=read_query(connection,q2)\n",
        "for result in results:\n",
        "  print(result)"
      ],
      "metadata": {
        "id": "cLJVAsLXXfu-"
      },
      "execution_count": null,
      "outputs": []
    },
    {
      "cell_type": "code",
      "source": [
        "from_db = []\n",
        "for result in results:\n",
        "  result =list(result)\n",
        "  from_db.append(result)\n",
        "columns = [\"order_id\",\"customer_name\",\"product_name\",\"date_ordered\",\"quantity\",\"unit_price\",\"phone_number\"]\n",
        "df=pd.DataFrame(from_db,columns=columns)\n",
        "display(df)"
      ],
      "metadata": {
        "id": "V9Yd91olXm-H"
      },
      "execution_count": null,
      "outputs": []
    },
    {
      "cell_type": "code",
      "source": [
        "# update command\n",
        "update=\"\"\"\n",
        "update orders\n",
        "set unit_price=45\n",
        "where order_id=103\n",
        "\"\"\"\n",
        "connection=create_db_connection(\"localhost\",\"root\",pw,db)\n",
        "execute_query(connection,update)"
      ],
      "metadata": {
        "id": "yd11ZmNgYFGf"
      },
      "execution_count": null,
      "outputs": []
    },
    {
      "cell_type": "code",
      "source": [
        "#delete command\n",
        "q8=\"\"\"\n",
        "delete from orders\n",
        "where order_id=101;\n",
        "\"\"\"\n",
        "connection=create_db_connection(\"localhost\",\"root\",pw,db)\n",
        "execute_query(connection,q8)"
      ],
      "metadata": {
        "id": "W7ZAjTojYe_J"
      },
      "execution_count": null,
      "outputs": []
    },
    {
      "cell_type": "code",
      "source": [
        "#delete command\n",
        "q9=\"\"\"\n",
        "select * from orders;\n",
        "\"\"\"\n",
        "connection=create_db_connection(\"localhost\",\"root\",pw,db)\n",
        "execute_query(connection,q9)"
      ],
      "metadata": {
        "id": "PPpp6HeYY-oS"
      },
      "execution_count": null,
      "outputs": []
    }
  ]
}